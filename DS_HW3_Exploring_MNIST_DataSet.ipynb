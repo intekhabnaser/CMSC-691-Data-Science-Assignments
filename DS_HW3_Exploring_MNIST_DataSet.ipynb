{
 "cells": [
  {
   "cell_type": "markdown",
   "metadata": {},
   "source": [
    "# Data Science Homework 3\n",
    "\n",
    "#### Name: Intekhab Naser\n",
    "#### ID: ZC11577\n",
    "##### email: intek1@umbc.edu\n",
    "######################################################################################################################"
   ]
  },
  {
   "cell_type": "markdown",
   "metadata": {},
   "source": [
    "### Importing required libraries and loading MNIST Data and Labels"
   ]
  },
  {
   "cell_type": "code",
   "execution_count": 127,
   "metadata": {},
   "outputs": [
    {
     "name": "stdout",
     "output_type": "stream",
     "text": [
      "Shape of X-transpose:  (784, 10000)\n",
      "Shape of Y (1, 10000)\n"
     ]
    }
   ],
   "source": [
    "import numpy as np\n",
    "import matplotlib.pyplot as plt\n",
    "from csv import reader\n",
    "\n",
    "# alpha = 0.001\n",
    "\n",
    "dataset = []\n",
    "labels = []\n",
    "datafile = \"mnist_data.txt\"\n",
    "labelfile = \"mnist_labels.txt\"\n",
    "\n",
    "data = open(datafile, \"r\")\n",
    "read_data = data.readlines()\n",
    "\n",
    "X = []\n",
    "for line in read_data:\n",
    "\tline = np.asarray(list(map(int,line.split())))\n",
    "\tX.append(line)\n",
    "\n",
    "max_pixel = 255.0\n",
    "X = np.asarray(X)\n",
    "X = X/max_pixel\n",
    "X = X.T\n",
    "print(\"Shape of X-transpose: \", X.shape)\n",
    "\n",
    "# W = np.random.normal(0,0.1, (X.shape[1], 1))\n",
    "\n",
    "labels = open(labelfile, \"r\")\n",
    "read_labels = labels.readlines()\n",
    "\n",
    "Y = []\n",
    "for line in read_labels:\n",
    "    if int(line) == 8:\n",
    "        Y.append(np.asarray(1))\n",
    "    else:\n",
    "        Y.append(np.asarray(0))\n",
    "\n",
    "Y = np.asarray(Y)\n",
    "Y = Y.reshape(1, Y.shape[0])\n",
    "print(\"Shape of Y\", Y.shape)"
   ]
  },
  {
   "cell_type": "markdown",
   "metadata": {},
   "source": [
    "### Defining Logistic Regression class and respective methods required for the same."
   ]
  },
  {
   "cell_type": "code",
   "execution_count": 128,
   "metadata": {},
   "outputs": [],
   "source": [
    "class LogisticRegression():\n",
    "    \n",
    "    def __init__(self,num_iterations, learning_rate, lam):\n",
    "        self.num_iterations = num_iterations\n",
    "        self.lr = learning_rate\n",
    "        self.lam = lam\n",
    "        \n",
    "    def get_weight(self):\n",
    "        return self.W\n",
    "        \n",
    "    def sigmoid(self,z):\n",
    "        s = 1.0 / (1.0 + np.exp(-z))\n",
    "        return s\n",
    "    \n",
    "    def initialize(self,dim):\n",
    "        self.W = np.zeros((dim,1))\n",
    "#         self.W = np.random.normal(0,1,(dim,1))\n",
    "#         self.W = np.ones((dim,1))\n",
    "\n",
    "        b = 0\n",
    "        assert (self.W.shape == (dim,1))\n",
    "        \n",
    "        return self.W, b\n",
    "    \n",
    "    def log_likelihood(self,W,b,X,Y):\n",
    "        m = X.shape[1]\n",
    "        z = np.dot(W.T,X)+b\n",
    "        Y_hat = self.sigmoid(z)\n",
    "        ll = -1.0/m*np.sum(Y*np.log(Y_hat)+(1.0-Y)*np.log(1.0-Y_hat)) - self.lam/2.0 * np.dot(W.T,W)\n",
    "        ll = np.squeeze(ll)\n",
    "        return ll\n",
    "    \n",
    "    def gradient(self,W,b,X,Y):\n",
    "        m = X.shape[1]\n",
    "        z = np.dot(W.T,X) + b\n",
    "        Y_hat = self.sigmoid(z)\n",
    "        \n",
    "        dw = 1.0/m*(np.dot(X, (Y_hat-Y).T) + np.dot(self.lam ,W) )\n",
    "        db = 1.0/m*np.sum(Y_hat-Y)\n",
    "        \n",
    "        return dw, db\n",
    "    \n",
    "    def regression(self,W,b, X, Y, epochs, alpha):\n",
    "        costs = []\n",
    "        for i in range(epochs):\n",
    "            dw, db = self.gradient(W,b,X,Y)\n",
    "            ll = self.log_likelihood(W,b,X,Y)\n",
    "\n",
    "            W = W - alpha * dw\n",
    "            b = b - alpha * db\n",
    "\n",
    "            if i % 100 == 0:\n",
    "                costs.append(ll)\n",
    "        return W,b,costs\n",
    "    \n",
    "    def predict(self, W,b,X):\n",
    "        m = X.shape[1]\n",
    "        Y_pred = np.zeros((1,m))\n",
    "        self.W = W.reshape(X.shape[0],1)\n",
    "\n",
    "        A = self.sigmoid(np.dot(W.T, X)+b)\n",
    "\n",
    "        for i in range(A.shape[1]):\n",
    "            if (A[:,i] > 0.5): \n",
    "                Y_pred[:, i] = 1\n",
    "            elif (A[:,i] <= 0.5):\n",
    "                Y_pred[:, i] = 0\n",
    "\n",
    "        assert (Y_pred.shape == (1,m))\n",
    "\n",
    "        return Y_pred\n",
    "    \n",
    "    def fit(self, X_train, Y_train):\n",
    "        W, b = self.initialize(X_train.shape[0])\n",
    "        W,b,cost = self.regression(W,b,X_train,Y_train,self.num_iterations, self.lr)\n",
    "        Y_pred = self.predict(W,b,X_train)\n",
    "        \n",
    "        accuracy = 100.0 - np.mean(np.abs(Y_pred-Y_train)*100.0)\n",
    "        return accuracy"
   ]
  },
  {
   "cell_type": "markdown",
   "metadata": {},
   "source": [
    "### Creating Logistic Regression object for 1K epochs with 0.05 learning rate"
   ]
  },
  {
   "cell_type": "code",
   "execution_count": 129,
   "metadata": {},
   "outputs": [
    {
     "data": {
      "text/plain": [
       "94.74"
      ]
     },
     "execution_count": 129,
     "metadata": {},
     "output_type": "execute_result"
    }
   ],
   "source": [
    "logistic_regression = LogisticRegression(1000,0.05, 0.1)\n",
    "accuracy = logistic_regression.fit(X, Y)\n",
    "weight = logistic_regression.get_weight()\n",
    "accuracy"
   ]
  },
  {
   "cell_type": "markdown",
   "metadata": {},
   "source": [
    "### From above, we can see that the training set accuracy on the 8-vs-others classification is  '94.74'\n",
    "================================================================================================================="
   ]
  },
  {
   "cell_type": "code",
   "execution_count": 130,
   "metadata": {},
   "outputs": [
    {
     "name": "stdout",
     "output_type": "stream",
     "text": [
      "[[ 0.00000000e+00  0.00000000e+00  0.00000000e+00  0.00000000e+00\n",
      "   0.00000000e+00  0.00000000e+00  0.00000000e+00  0.00000000e+00\n",
      "   0.00000000e+00  0.00000000e+00  0.00000000e+00  0.00000000e+00\n",
      "   0.00000000e+00  0.00000000e+00  0.00000000e+00  0.00000000e+00\n",
      "   0.00000000e+00  0.00000000e+00  0.00000000e+00  0.00000000e+00\n",
      "   0.00000000e+00  0.00000000e+00  0.00000000e+00  0.00000000e+00\n",
      "   0.00000000e+00  0.00000000e+00  0.00000000e+00  0.00000000e+00]\n",
      " [ 0.00000000e+00  0.00000000e+00  0.00000000e+00  0.00000000e+00\n",
      "   0.00000000e+00 -8.62221654e-05 -5.35485027e-04 -3.58502688e-04\n",
      "  -5.64053900e-04 -4.59253119e-04 -4.62055737e-04 -1.57664721e-03\n",
      "  -3.14067997e-03 -2.22377520e-03 -2.69570525e-03 -2.08554901e-03\n",
      "  -5.64595238e-04 -1.28192875e-03 -1.89656058e-03 -8.02895436e-05\n",
      "  -3.09705796e-05  0.00000000e+00  0.00000000e+00  0.00000000e+00\n",
      "   0.00000000e+00  0.00000000e+00  0.00000000e+00  0.00000000e+00]\n",
      " [ 0.00000000e+00  0.00000000e+00  0.00000000e+00  0.00000000e+00\n",
      "   0.00000000e+00 -2.37240267e-04 -8.75746706e-04 -8.69613433e-04\n",
      "  -1.44304151e-03 -4.03677544e-03 -7.80181933e-03 -1.57639730e-02\n",
      "  -2.20281998e-02 -2.40630299e-02 -2.70331995e-02 -2.58591787e-02\n",
      "  -2.18913829e-02 -1.76393231e-02 -1.29672480e-02 -7.57738254e-03\n",
      "  -3.96180952e-03 -1.88777642e-03 -8.69978550e-04 -2.08501562e-04\n",
      "  -2.68431753e-06  0.00000000e+00  0.00000000e+00  0.00000000e+00]\n",
      " [ 0.00000000e+00  0.00000000e+00  0.00000000e+00  0.00000000e+00\n",
      "  -1.60390692e-04 -6.60525994e-04 -2.40571858e-03 -4.63529559e-03\n",
      "  -7.13749652e-03 -1.60109413e-02 -2.59021780e-02 -4.14549939e-02\n",
      "  -6.34453699e-02 -7.78371255e-02 -8.63789452e-02 -9.37394766e-02\n",
      "  -8.61623873e-02 -7.21852390e-02 -6.49400609e-02 -4.53807830e-02\n",
      "  -1.98330451e-02 -8.73454497e-03 -6.31066370e-03 -3.01342775e-03\n",
      "  -1.14386002e-03 -5.75295425e-04 -1.81131714e-04  0.00000000e+00]\n",
      " [ 0.00000000e+00  0.00000000e+00  0.00000000e+00 -8.40108238e-05\n",
      "  -8.96704927e-04 -1.71057743e-03 -7.83904233e-03 -2.11403569e-02\n",
      "  -4.42449377e-02 -7.61573035e-02 -9.34876198e-02 -1.15515847e-01\n",
      "  -1.28096273e-01 -1.25900733e-01 -1.11966195e-01 -1.22296706e-01\n",
      "  -1.17465421e-01 -1.19956765e-01 -1.23249848e-01 -1.02517801e-01\n",
      "  -7.79369300e-02 -5.19366102e-02 -4.42167056e-02 -2.91896146e-02\n",
      "  -1.15853743e-02 -1.92133061e-03  5.21880374e-04  0.00000000e+00]\n",
      " [ 0.00000000e+00 -4.26726292e-06 -2.79415259e-06 -4.49922706e-04\n",
      "  -3.70180655e-03 -1.09124410e-02 -2.43002874e-02 -3.73339749e-02\n",
      "  -6.46169876e-02 -8.74819555e-02 -9.35093310e-02 -9.72161834e-02\n",
      "  -5.73371691e-02 -1.01437084e-02 -1.90777450e-02  3.09821728e-02\n",
      "   7.07451317e-02  5.34042852e-02 -1.30865770e-02 -5.91880544e-02\n",
      "  -1.00189077e-01 -9.26357151e-02 -9.53841728e-02 -5.13589017e-02\n",
      "  -1.30222175e-02  4.00473691e-03  4.02674154e-03  0.00000000e+00]\n",
      " [ 0.00000000e+00  0.00000000e+00 -1.88039527e-05 -3.68993019e-03\n",
      "  -1.29284219e-02 -2.56143717e-02 -3.56400648e-02 -5.10251607e-02\n",
      "  -6.04129196e-02 -5.79230820e-02 -4.20094289e-02 -2.31449493e-03\n",
      "   3.53525781e-02  1.99082890e-02  1.88532116e-02  3.97514260e-02\n",
      "   6.85483079e-02  4.64447241e-02 -3.51671332e-02 -6.92683396e-02\n",
      "  -7.94549360e-02 -6.10628972e-02 -5.36071010e-02 -4.41734302e-02\n",
      "  -2.23068592e-02  5.34071372e-03  1.85323202e-03  3.14174934e-03]\n",
      " [ 0.00000000e+00 -5.56498260e-05 -5.85623462e-04 -6.86495700e-03\n",
      "  -2.18012221e-02 -2.96646744e-02 -2.59193488e-02 -3.46707966e-02\n",
      "  -1.84805118e-02  7.78362898e-03  2.39167364e-02  5.88392011e-03\n",
      "   1.10365172e-02 -1.35699512e-03 -2.19339828e-02 -6.59158841e-02\n",
      "  -8.52651413e-02 -1.05133258e-01 -9.95784889e-02 -7.38096780e-02\n",
      "  -9.92156667e-03  4.77852190e-02  2.84867652e-02 -4.37049645e-03\n",
      "  -1.30633261e-02  2.11569560e-03  2.35971713e-03  3.78951533e-03]\n",
      " [ 0.00000000e+00 -4.09434185e-04 -2.18990739e-03 -1.25857185e-02\n",
      "  -1.97320251e-02 -1.68158768e-02 -7.18709380e-03  3.49325916e-02\n",
      "   5.82369884e-02  6.49319215e-02  4.65192256e-02  3.72252531e-02\n",
      "   9.22299152e-03 -6.69844710e-02 -1.69327227e-01 -2.00510749e-01\n",
      "  -2.09362020e-01 -1.89461063e-01 -1.06226153e-01 -1.15274444e-02\n",
      "   9.03864742e-02  1.00155889e-01  7.44057710e-02  4.04721425e-02\n",
      "   1.92527357e-02  1.04635432e-02 -8.69974959e-03 -1.05358054e-03]\n",
      " [-1.16091193e-04 -1.17497738e-03 -3.75708118e-03 -7.32782119e-03\n",
      "  -1.22265827e-02  4.98712056e-03  2.89068872e-02  8.52094375e-02\n",
      "   1.24751851e-01  1.22074514e-01  9.49435846e-02  7.66062607e-02\n",
      "   3.35244388e-02 -1.12898686e-01 -2.56681428e-01 -3.23744425e-01\n",
      "  -2.97092452e-01 -1.66043480e-01 -8.45941746e-02  2.31846105e-02\n",
      "   1.19179483e-01  1.46399948e-01  1.11251384e-01  8.43886778e-02\n",
      "   5.14546638e-02  1.54393752e-02  3.33666408e-03  3.36905778e-03]\n",
      " [-2.04303504e-04 -9.10124713e-04 -4.22521474e-03  5.84192718e-04\n",
      "  -4.22637991e-03  1.95699584e-02  5.23805604e-02  1.08399927e-01\n",
      "   1.33820579e-01  1.55067871e-01  1.22765793e-01  1.41576275e-01\n",
      "   8.68708734e-02 -1.19224047e-01 -2.58998543e-01 -3.13552861e-01\n",
      "  -1.97691867e-01 -9.50627848e-02 -1.94336198e-02  5.41322707e-02\n",
      "   1.30565043e-01  2.09592119e-01  1.60127125e-01  1.12508838e-01\n",
      "   5.18309917e-02  2.23072580e-02  6.77901771e-03  2.71504210e-03]\n",
      " [-2.82003238e-05 -4.78821093e-04 -3.44775150e-03 -8.08559769e-04\n",
      "  -1.44415199e-03  5.56060702e-03  2.81859259e-02  6.36918967e-02\n",
      "   8.26477067e-02  8.81864475e-02  1.17876751e-01  1.51143118e-01\n",
      "   1.56852012e-01  1.29942569e-02 -1.53253723e-01 -1.47232216e-01\n",
      "  -3.20950269e-02 -2.23228629e-02  4.00501840e-02  1.14929521e-01\n",
      "   2.01309080e-01  1.96078562e-01  1.61384796e-01  8.78167321e-02\n",
      "   4.55875037e-02  1.51896684e-02  2.50119932e-03  1.99647851e-03]\n",
      " [ 0.00000000e+00 -2.71373920e-04 -1.88506877e-03 -1.47163743e-03\n",
      "  -6.48885992e-03 -2.17813122e-02 -3.72012961e-02 -2.48684752e-02\n",
      "  -2.46910532e-02 -1.21452102e-02  3.69839011e-02  1.64181276e-01\n",
      "   2.55620814e-01  1.55403608e-01 -6.91274407e-03 -3.40640002e-03\n",
      "   2.46686447e-02  1.03373144e-02  3.45481596e-02  1.21994361e-01\n",
      "   1.41582817e-01  9.75699638e-02  5.48212252e-02  1.96770105e-02\n",
      "   2.16697110e-03  4.28436028e-04 -2.68188629e-05  0.00000000e+00]\n",
      " [ 0.00000000e+00 -8.68185272e-05 -7.08116874e-05 -3.21370914e-03\n",
      "  -1.36642050e-02 -5.32069741e-02 -1.10795096e-01 -1.50658498e-01\n",
      "  -1.76898518e-01 -1.46100912e-01 -6.45978864e-02  1.48421885e-01\n",
      "   3.51156321e-01  2.12785280e-01  1.92111835e-02  3.12407735e-02\n",
      "   5.84903633e-06 -3.21411870e-02 -4.29175415e-02  7.91178593e-03\n",
      "   9.09318582e-03 -3.44535580e-02 -5.10470552e-02 -4.27571778e-02\n",
      "  -1.78657745e-02 -3.47649369e-03 -1.81213151e-04  0.00000000e+00]\n",
      " [ 0.00000000e+00  0.00000000e+00 -6.66466068e-04 -1.74529463e-03\n",
      "  -1.79329757e-02 -7.80330461e-02 -1.56885135e-01 -2.44224462e-01\n",
      "  -3.07871634e-01 -2.97877714e-01 -1.57148101e-01  1.01131191e-01\n",
      "   2.96667114e-01  1.33864368e-01  3.55207841e-02  2.84815659e-02\n",
      "  -3.00390548e-03 -1.43682170e-01 -1.81342826e-01 -1.32648260e-01\n",
      "  -1.41320311e-01 -1.48142314e-01 -1.25037163e-01 -6.89064001e-02\n",
      "  -2.67187906e-02 -1.67234129e-03 -2.57931461e-04  0.00000000e+00]\n",
      " [ 0.00000000e+00  0.00000000e+00 -5.64942928e-04 -1.56158402e-03\n",
      "  -2.04165718e-02 -8.01576967e-02 -1.58660557e-01 -2.51656923e-01\n",
      "  -2.96338198e-01 -2.77329268e-01 -1.38176033e-01  1.23669072e-01\n",
      "   2.20239029e-01  8.24569675e-02 -3.13739762e-02  4.08998650e-03\n",
      "  -1.66316131e-03 -1.82439452e-01 -2.35612716e-01 -2.27489131e-01\n",
      "  -2.10907061e-01 -1.75203309e-01 -1.40535496e-01 -7.79530142e-02\n",
      "  -2.84511249e-02 -4.64052483e-03 -1.01720059e-03 -5.72982219e-05]\n",
      " [ 0.00000000e+00 -1.08312336e-05 -1.52455442e-03 -2.26899203e-03\n",
      "  -2.28871849e-02 -8.29626252e-02 -1.47552081e-01 -2.07786497e-01\n",
      "  -1.67126366e-01 -9.76135424e-02  5.21022498e-02  1.91676637e-01\n",
      "   1.83614943e-01  3.09451776e-02 -5.62581212e-02  2.64055714e-03\n",
      "  -2.50486584e-02 -1.19088458e-01 -2.22400605e-01 -2.11789990e-01\n",
      "  -1.97488053e-01 -1.50865643e-01 -1.21617782e-01 -7.56692017e-02\n",
      "  -2.91213469e-02 -1.02767869e-02 -1.68959471e-03 -7.01645252e-04]\n",
      " [ 0.00000000e+00  0.00000000e+00 -1.63934750e-03 -5.06176315e-03\n",
      "  -2.68042598e-02 -8.82113977e-02 -1.36461304e-01 -1.11690027e-01\n",
      "   6.88697762e-03  8.73072399e-02  1.84122609e-01  2.26002182e-01\n",
      "   1.71075609e-01  1.67014193e-02 -7.80041590e-02 -7.27542175e-02\n",
      "  -9.02338655e-02 -7.17402059e-02 -1.23362739e-01 -1.64140056e-01\n",
      "  -1.42180737e-01 -1.21198185e-01 -1.01887909e-01 -6.70202739e-02\n",
      "  -2.93039826e-02 -7.70536969e-03 -1.39278926e-03 -8.59203777e-04]\n",
      " [ 0.00000000e+00 -9.91064849e-05 -2.00954747e-03 -1.08050527e-02\n",
      "  -3.24622834e-02 -7.71843976e-02 -1.12680505e-01 -2.11727135e-02\n",
      "   8.69784171e-02  1.74013927e-01  2.09099026e-01  1.97504450e-01\n",
      "   9.89407360e-02 -7.47914113e-02 -1.62912149e-01 -1.37824527e-01\n",
      "  -9.25462125e-02 -6.16675359e-02 -6.63515477e-02 -1.06180157e-01\n",
      "  -9.32452942e-02 -1.05399111e-01 -8.85111406e-02 -6.83304595e-02\n",
      "  -2.62491112e-02 -7.60278370e-03 -2.91387210e-03 -4.19955457e-04]\n",
      " [ 0.00000000e+00 -2.00572648e-04 -2.08405581e-03 -1.69599807e-02\n",
      "  -4.09101008e-02 -8.09729909e-02 -7.39181029e-02  1.17750062e-02\n",
      "   7.32429619e-02  1.26840909e-01  1.35285734e-01  9.36690309e-02\n",
      "  -3.41644878e-02 -1.70822907e-01 -2.50305390e-01 -1.85733223e-01\n",
      "  -9.58173637e-02 -6.15722405e-02 -4.40003376e-02 -6.09688674e-02\n",
      "  -9.10987849e-02 -1.00197514e-01 -8.12049392e-02 -5.28810358e-02\n",
      "  -2.03013463e-02 -8.76940940e-03 -2.98927651e-03 -8.31594964e-05]\n",
      " [ 0.00000000e+00 -2.83161385e-05 -2.38118486e-03 -2.28299504e-02\n",
      "  -5.06035691e-02 -7.86667717e-02 -4.07608805e-02 -6.43934362e-03\n",
      "   5.91079938e-03  2.75710769e-02  1.98018427e-02  6.67614388e-03\n",
      "  -7.29975729e-02 -1.84270154e-01 -2.21557919e-01 -1.66367242e-01\n",
      "  -1.22301368e-01 -6.44876823e-02 -6.27184908e-02 -4.05347093e-02\n",
      "  -4.89284312e-02 -7.81793869e-02 -6.88213640e-02 -3.42501791e-02\n",
      "  -9.64105416e-03 -5.63539253e-03 -1.36958860e-03  0.00000000e+00]\n",
      " [ 0.00000000e+00  0.00000000e+00 -2.67471517e-03 -2.29828082e-02\n",
      "  -5.24440685e-02 -7.52047492e-02 -5.90027419e-02 -5.84294267e-02\n",
      "  -5.17355565e-02 -4.95267091e-02 -2.39767574e-02  3.34971066e-02\n",
      "   2.40999111e-03 -5.91284029e-02 -8.87777913e-02 -7.58801095e-02\n",
      "  -7.41348572e-02 -4.83816484e-02 -3.26864938e-02  1.32389898e-02\n",
      "   1.67752883e-02 -4.49006596e-02 -5.21161048e-02 -2.27007400e-02\n",
      "  -5.75785669e-03 -1.82943613e-03 -2.54574356e-04  0.00000000e+00]\n",
      " [ 0.00000000e+00  0.00000000e+00 -7.62130055e-04 -1.30181253e-02\n",
      "  -3.93585137e-02 -6.35696653e-02 -6.31943401e-02 -7.82800490e-02\n",
      "  -7.40438833e-02 -8.58840301e-02 -3.02545411e-02  6.30614433e-02\n",
      "   1.36516497e-01  1.55838281e-01  9.68736728e-02  6.75064917e-02\n",
      "   8.60595456e-03  2.59964948e-02  6.73177091e-02  8.36059182e-02\n",
      "   3.92686573e-02 -3.83145928e-03 -2.88126712e-02 -7.52499386e-03\n",
      "  -3.91956535e-03 -2.71475000e-03 -5.06869940e-05  0.00000000e+00]\n",
      " [ 0.00000000e+00 -4.26726292e-06 -1.31382641e-04 -5.72735231e-03\n",
      "  -2.22868933e-02 -6.02923204e-02 -6.65219042e-02 -7.99833264e-02\n",
      "  -8.42825997e-02 -6.87370029e-02 -2.61730902e-02  7.19359206e-02\n",
      "   1.62901574e-01  1.89736941e-01  1.93574406e-01  1.48894495e-01\n",
      "   1.04537981e-01  1.02229476e-01  8.48417008e-02  6.04323885e-02\n",
      "   1.52017995e-02  8.22220588e-04 -9.77029824e-03 -3.77276964e-03\n",
      "  -1.97084139e-03 -1.54155931e-03 -2.78182280e-07  0.00000000e+00]\n",
      " [ 0.00000000e+00  0.00000000e+00  0.00000000e+00 -1.57378929e-03\n",
      "  -5.36751031e-03 -2.63744513e-02 -3.85294529e-02 -3.88750505e-02\n",
      "  -6.14062272e-02 -6.09084706e-02 -3.28641885e-02  4.33263736e-02\n",
      "   5.56361965e-02  7.65228254e-02  7.03119666e-02  3.20759193e-02\n",
      "   2.58698452e-02  1.88587795e-02 -3.15507410e-03 -1.75323446e-02\n",
      "  -1.47613737e-02 -7.70543344e-03 -6.19528356e-03 -1.28077045e-03\n",
      "  -1.48741352e-04 -7.94250522e-06  0.00000000e+00  0.00000000e+00]\n",
      " [ 0.00000000e+00  0.00000000e+00  0.00000000e+00 -1.78936976e-04\n",
      "  -5.09421470e-04 -2.85617744e-03 -1.09365208e-02 -3.38773287e-02\n",
      "  -6.77165746e-02 -8.37318179e-02 -9.63382145e-02 -1.03886935e-01\n",
      "  -1.15327334e-01 -9.75002976e-02 -8.00326297e-02 -7.56938215e-02\n",
      "  -7.72453095e-02 -6.38948256e-02 -4.14663823e-02 -2.68136383e-02\n",
      "  -1.17172805e-02 -6.31251610e-03 -2.12272624e-03 -5.90044371e-04\n",
      "  -3.75429627e-04 -6.91443552e-05  0.00000000e+00  0.00000000e+00]\n",
      " [ 0.00000000e+00  0.00000000e+00  0.00000000e+00  0.00000000e+00\n",
      "  -2.92139842e-05 -9.31084835e-04 -2.49086618e-03 -1.14520150e-02\n",
      "  -1.38636533e-02 -2.58094814e-02 -3.22844480e-02 -4.51043039e-02\n",
      "  -5.13778585e-02 -5.41667017e-02 -5.21371064e-02 -4.02004877e-02\n",
      "  -3.05776333e-02 -2.15322852e-02 -1.06911910e-02 -6.51519652e-03\n",
      "  -4.11031984e-03 -2.65260660e-03 -6.58734765e-04 -2.63404220e-04\n",
      "  -9.22704564e-06  0.00000000e+00  0.00000000e+00  0.00000000e+00]\n",
      " [ 0.00000000e+00  0.00000000e+00  0.00000000e+00  0.00000000e+00\n",
      "   0.00000000e+00  0.00000000e+00 -2.34370492e-05 -4.77511172e-04\n",
      "  -1.04691094e-03 -1.60827093e-03 -2.48830007e-03 -2.31824096e-03\n",
      "  -2.95249909e-03 -3.86245457e-03 -5.06938184e-03 -4.68763113e-03\n",
      "  -3.67243538e-03 -2.79857194e-03 -1.74472216e-03 -3.51873014e-03\n",
      "  -9.61197317e-04 -1.55457024e-06  0.00000000e+00  0.00000000e+00\n",
      "   0.00000000e+00  0.00000000e+00  0.00000000e+00  0.00000000e+00]]\n"
     ]
    }
   ],
   "source": [
    "weight = weight.reshape(28,28)\n",
    "print(weight)"
   ]
  },
  {
   "cell_type": "markdown",
   "metadata": {},
   "source": [
    "### Now, plotting the graph for weight vector:"
   ]
  },
  {
   "cell_type": "code",
   "execution_count": 131,
   "metadata": {},
   "outputs": [
    {
     "data": {
      "text/plain": [
       "<matplotlib.image.AxesImage at 0x2a08164b7f0>"
      ]
     },
     "execution_count": 131,
     "metadata": {},
     "output_type": "execute_result"
    },
    {
     "data": {
      "image/png": "[encoded data removed]",
      "text/plain": [
       "<Figure size 432x288 with 1 Axes>"
      ]
     },
     "metadata": {},
     "output_type": "display_data"
    }
   ],
   "source": [
    "plt.imshow(weight, cmap='gray')"
   ]
  },
  {
   "cell_type": "markdown",
   "metadata": {},
   "source": [
    "#### From above plot of weight vector, we can see that it makes a pattern of '8'. By comparing the weight vector values with the corresponding plot, the largest weight (positive values) are mapping to black pixels, the smallest values (negative values) are mapping to white pixels and the values in between (mostly zeroes) are mapping to greyish pixels. Thus, as the pattern matches the number eight, these calculated values of weight vector can recognize the number 8."
   ]
  },
  {
   "cell_type": "code",
   "execution_count": 132,
   "metadata": {},
   "outputs": [],
   "source": [
    "lambd = [0, 0.001, 0.005, 0.01, 0.05, 0.1, 0.5, 1, 5, 10, 50, 100, 500, 1000, 5000, 10000]\n",
    "acc = []\n",
    "for l in lambd:\n",
    "    logistic_regression = LogisticRegression(1000,0.05,l)\n",
    "    acc.append(logistic_regression.fit(X, Y))"
   ]
  },
  {
   "cell_type": "code",
   "execution_count": 133,
   "metadata": {},
   "outputs": [
    {
     "data": {
      "text/plain": [
       "[94.74,\n",
       " 94.74,\n",
       " 94.74,\n",
       " 94.74,\n",
       " 94.74,\n",
       " 94.74,\n",
       " 94.73,\n",
       " 94.72,\n",
       " 94.7,\n",
       " 94.71,\n",
       " 94.63,\n",
       " 94.52,\n",
       " 93.57,\n",
       " 92.22,\n",
       " 90.26,\n",
       " 90.26]"
      ]
     },
     "execution_count": 133,
     "metadata": {},
     "output_type": "execute_result"
    }
   ],
   "source": [
    "acc"
   ]
  },
  {
   "cell_type": "markdown",
   "metadata": {},
   "source": [
    "### These are the values of training set accuracy for increasing values of lambda."
   ]
  },
  {
   "cell_type": "code",
   "execution_count": 134,
   "metadata": {},
   "outputs": [
    {
     "data": {
      "text/plain": [
       "([<matplotlib.axis.XTick at 0x2a08153a320>,\n",
       "  <matplotlib.axis.XTick at 0x2a081536c18>,\n",
       "  <matplotlib.axis.XTick at 0x2a081536978>,\n",
       "  <matplotlib.axis.XTick at 0x2a08153da20>,\n",
       "  <matplotlib.axis.XTick at 0x2a08153def0>,\n",
       "  <matplotlib.axis.XTick at 0x2a08154a438>,\n",
       "  <matplotlib.axis.XTick at 0x2a08154a940>,\n",
       "  <matplotlib.axis.XTick at 0x2a08154ae48>,\n",
       "  <matplotlib.axis.XTick at 0x2a0815d4390>,\n",
       "  <matplotlib.axis.XTick at 0x2a0815d4898>,\n",
       "  <matplotlib.axis.XTick at 0x2a08154af28>,\n",
       "  <matplotlib.axis.XTick at 0x2a0815d4c50>,\n",
       "  <matplotlib.axis.XTick at 0x2a0815d4e80>,\n",
       "  <matplotlib.axis.XTick at 0x2a0815db3c8>,\n",
       "  <matplotlib.axis.XTick at 0x2a0815db898>,\n",
       "  <matplotlib.axis.XTick at 0x2a0815dbda0>],\n",
       " <a list of 16 Text xticklabel objects>)"
      ]
     },
     "execution_count": 134,
     "metadata": {},
     "output_type": "execute_result"
    },
    {
     "data": {
      "image/png": "[encoded data removed]",
      "text/plain": [
       "<Figure size 432x288 with 1 Axes>"
      ]
     },
     "metadata": {},
     "output_type": "display_data"
    }
   ],
   "source": [
    "plt.plot(range(len(acc)),acc)\n",
    "plt.xlabel('lambda')\n",
    "plt.ylabel('Accuracy')\n",
    "plt.xticks(np.arange(len(acc)), lambd)"
   ]
  },
  {
   "cell_type": "markdown",
   "metadata": {},
   "source": [
    "### This is the curve of training set accuracy as a function of lambda with increasing regularizer values.\n",
    "### Here, we can see that as the value of regularizer (lambda) increases, the penalty is higher and the accuracy takes a hit."
   ]
  }
 ],
 "metadata": {
  "kernelspec": {
   "display_name": "Python 3",
   "language": "python",
   "name": "python3"
  },
  "language_info": {
   "codemirror_mode": {
    "name": "ipython",
    "version": 3
   },
   "file_extension": ".py",
   "mimetype": "text/x-python",
   "name": "python",
   "nbconvert_exporter": "python",
   "pygments_lexer": "ipython3",
   "version": "3.6.5"
  }
 },
 "nbformat": 4,
 "nbformat_minor": 2
}
